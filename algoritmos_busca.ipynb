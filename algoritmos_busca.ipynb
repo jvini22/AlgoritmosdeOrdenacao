{
  "nbformat": 4,
  "nbformat_minor": 0,
  "metadata": {
    "colab": {
      "provenance": [],
      "include_colab_link": true
    },
    "kernelspec": {
      "name": "python3",
      "display_name": "Python 3"
    },
    "language_info": {
      "name": "python"
    }
  },
  "cells": [
    {
      "cell_type": "markdown",
      "metadata": {
        "id": "view-in-github",
        "colab_type": "text"
      },
      "source": [
        "<a href=\"https://colab.research.google.com/github/jvini22/AlgoritmosdeOrdenacao/blob/main/algoritmos_busca.ipynb\" target=\"_parent\"><img src=\"https://colab.research.google.com/assets/colab-badge.svg\" alt=\"Open In Colab\"/></a>"
      ]
    },
    {
      "cell_type": "markdown",
      "source": [
        "Busca sequencial"
      ],
      "metadata": {
        "id": "fgGhjVRvE3pV"
      }
    },
    {
      "cell_type": "code",
      "execution_count": 3,
      "metadata": {
        "id": "eHKpsM4VE2-Y"
      },
      "outputs": [],
      "source": [
        "def buscaSequencial(lista, chave):\n",
        "  indice = 0\n",
        "  for número in lista:\n",
        "    if número == chave:\n",
        "      return indice\n",
        "    indice = indice + 1\n",
        "  return -1"
      ]
    },
    {
      "cell_type": "code",
      "source": [
        "chave = 45\n",
        "lista = [20, 5, 15, 24, 67, 45, 1, 76, 21, 11]\n",
        "\n",
        "pos = buscaSequencial(lista, chave)\n",
        "\n",
        "if pos != -1:\n",
        "  print(\"Posição da chave\", chave, \"na lista:\", pos)\n",
        "else:\n",
        "  print(\"A chave\", chave, \"não se encontra na lista\")"
      ],
      "metadata": {
        "colab": {
          "base_uri": "https://localhost:8080/"
        },
        "id": "UgSSLoPlFFhl",
        "outputId": "7b5d8530-2f66-4ab0-d721-999e97169f20"
      },
      "execution_count": 2,
      "outputs": [
        {
          "output_type": "stream",
          "name": "stdout",
          "text": [
            "Posição da chave 45 na lista: 5\n"
          ]
        }
      ]
    },
    {
      "cell_type": "markdown",
      "source": [
        "Busca Binária"
      ],
      "metadata": {
        "id": "nkwVW4vXFUJp"
      }
    },
    {
      "cell_type": "code",
      "source": [
        "def buscaBinaria(lista, chave):\n",
        "  pos_ini = 0\n",
        "  pos_fim = len(lista) - 1\n",
        "\n",
        "  while pos_ini <= pos_fim:\n",
        "    pos_meio = (pos_ini + pos_fim) // 2\n",
        "\n",
        "    if lista[pos_meio] == chave:\n",
        "      return pos_meio\n",
        "    if lista[pos_meio] > chave:\n",
        "      pos_fim = pos_meio - 1\n",
        "    else:\n",
        "      pos_ini = pos_meio + 1\n",
        "  return -1\n",
        "\n"
      ],
      "metadata": {
        "id": "VEyWc4e1FWDJ"
      },
      "execution_count": 4,
      "outputs": []
    },
    {
      "cell_type": "code",
      "source": [
        "chave = 15\n",
        "# Para usar a busca binária a lista deve estar ordenada\n",
        "lista = [1, 5, 15, 20, 24, 45, 67, 76, 78, 100]\n",
        "\n",
        "pos = buscaBinaria(lista, chave)\n",
        "\n",
        "if pos != -1:\n",
        "  print(\"Posição da chave\", chave, \"na lista:\", pos)\n",
        "else:\n",
        "  print(\"A chave\", chave, \"não se encontra na lista\")"
      ],
      "metadata": {
        "colab": {
          "base_uri": "https://localhost:8080/"
        },
        "id": "2q5zmFz0F3YS",
        "outputId": "1a956548-aee6-4e4e-bad6-8820a27d30bc"
      },
      "execution_count": 5,
      "outputs": [
        {
          "output_type": "stream",
          "name": "stdout",
          "text": [
            "Posição da chave 15 na lista: 2\n"
          ]
        }
      ]
    }
  ]
}